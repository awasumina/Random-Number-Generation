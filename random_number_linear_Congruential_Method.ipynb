{
  "nbformat": 4,
  "nbformat_minor": 0,
  "metadata": {
    "colab": {
      "provenance": []
    },
    "kernelspec": {
      "name": "python3",
      "display_name": "Python 3"
    },
    "language_info": {
      "name": "python"
    }
  },
  "cells": [
    {
      "cell_type": "markdown",
      "source": [
        "To generate random numbers using linear Congruential Method"
      ],
      "metadata": {
        "id": "yjav0DMTkqEL"
      }
    },
    {
      "cell_type": "code",
      "source": [
        "#to generate random number using linear Congruential Method\n",
        "def Icg(seed,modulus,multiplier,increment,n):\n",
        "    random_numbers=[]\n",
        "    for _ in range(n):\n",
        "        seed = (multiplier * seed + increment) %modulus\n",
        "        random_numbers.append(seed)\n",
        "    return random_numbers\n",
        "seed = 30\n",
        "modulus =100\n",
        "multiplier = 100\n",
        "multiplier = 21\n",
        "increment = 12\n",
        "n=10\n",
        "random_numbers = Icg(seed,modulus,multiplier,increment,n)\n",
        "print(random_numbers)"
      ],
      "metadata": {
        "colab": {
          "base_uri": "https://localhost:8080/"
        },
        "id": "0Aw7P5AVktS7",
        "outputId": "288db97f-1d72-4617-8cde-261cfd0e4742"
      },
      "execution_count": 1,
      "outputs": [
        {
          "output_type": "stream",
          "name": "stdout",
          "text": [
            "[42, 94, 86, 18, 90, 2, 54, 46, 78, 50]\n"
          ]
        }
      ]
    },
    {
      "cell_type": "code",
      "source": [
        "#To find period of random number with different seeds\n",
        "def Icg_period(seed,modulus,multiplier,increment):\n",
        "    initial_seed=seed\n",
        "    seen_values={}\n",
        "    count=0\n",
        "    while seed not in seen_values:\n",
        "        seen_values[seed]=count\n",
        "        seed=(multiplier*seed+increment)%modulus\n",
        "        count+=1\n",
        "        if seed==initial_seed:\n",
        "            return count\n",
        "    return count\n",
        "modulus=2**8\n",
        "multiplier=7\n",
        "increment=23\n",
        "seeds=[1,2,3]\n",
        "for seed in seeds:\n",
        "    period=Icg_period(seed,modulus,multiplier,increment)\n",
        "    print(f\"Seed:{seed}-Period:{period}\")\n"
      ],
      "metadata": {
        "colab": {
          "base_uri": "https://localhost:8080/"
        },
        "id": "8rGfnJc3kyUi",
        "outputId": "a6bcefc8-a4bb-4e28-d17c-33cb2d04fdaa"
      },
      "execution_count": 2,
      "outputs": [
        {
          "output_type": "stream",
          "name": "stdout",
          "text": [
            "Seed:1-Period:64\n",
            "Seed:2-Period:64\n",
            "Seed:3-Period:64\n"
          ]
        }
      ]
    }
  ]
}