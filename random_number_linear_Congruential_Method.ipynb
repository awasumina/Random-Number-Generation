{
 "cells": [
  {
   "cell_type": "markdown",
   "metadata": {
    "id": "yjav0DMTkqEL"
   },
   "source": [
    "To generate random numbers using linear Congruential Method"
   ]
  },
  {
   "cell_type": "code",
   "execution_count": null,
   "metadata": {
    "colab": {
     "base_uri": "https://localhost:8080/"
    },
    "id": "0Aw7P5AVktS7",
    "outputId": "288db97f-1d72-4617-8cde-261cfd0e4742"
   },
   "outputs": [
    {
     "name": "stdout",
     "output_type": "stream",
     "text": [
      "[42, 94, 86, 18, 90, 2, 54, 46, 78, 50]\n"
     ]
    }
   ],
   "source": [
    "#to generate random number using linear Congruential Method\n",
    "def Icg(seed,modulus,multiplier,increment,n):\n",
    "    random_numbers=[]\n",
    "    for _ in range(n):\n",
    "        seed = (multiplier * seed + increment) %modulus\n",
    "        random_numbers.append(seed)\n",
    "    return random_numbers\n",
    "seed = 30\n",
    "modulus =100  \n",
    "multiplier = 100\n",
    "multiplier = 21\n",
    "increment = 12\n",
    "n=10\n",
    "random_numbers = Icg(seed,modulus,multiplier,increment,n)\n",
    "print(random_numbers)"
   ]
  },
  {
   "cell_type": "code",
   "execution_count": 2,
   "metadata": {
    "colab": {
     "base_uri": "https://localhost:8080/"
    },
    "id": "8rGfnJc3kyUi",
    "outputId": "a6bcefc8-a4bb-4e28-d17c-33cb2d04fdaa"
   },
   "outputs": [
    {
     "name": "stdout",
     "output_type": "stream",
     "text": [
      "Seed:1-Period:64\n",
      "Seed:2-Period:64\n",
      "Seed:3-Period:64\n"
     ]
    }
   ],
   "source": [
    "#To find period of random number with different seeds\n",
    "def Icg_period(seed,modulus,multiplier,increment):\n",
    "    initial_seed=seed\n",
    "    seen_values={}\n",
    "    count=0\n",
    "    while seed not in seen_values:\n",
    "        seen_values[seed]=count\n",
    "        seed=(multiplier*seed+increment)%modulus\n",
    "        count+=1\n",
    "        if seed==initial_seed:\n",
    "            return count\n",
    "    return count\n",
    "modulus=2**8\n",
    "multiplier=7\n",
    "increment=23\n",
    "seeds=[1,2,3]\n",
    "for seed in seeds:\n",
    "    period=Icg_period(seed,modulus,multiplier,increment)\n",
    "    print(f\"Seed:{seed}-Period:{period}\")\n"
   ]
  }
 ],
 "metadata": {
  "colab": {
   "provenance": []
  },
  "kernelspec": {
   "display_name": "Python 3",
   "name": "python3"
  },
  "language_info": {
   "name": "python"
  }
 },
 "nbformat": 4,
 "nbformat_minor": 0
}
