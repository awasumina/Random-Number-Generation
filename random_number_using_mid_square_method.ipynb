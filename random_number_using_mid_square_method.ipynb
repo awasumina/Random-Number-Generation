{
  "nbformat": 4,
  "nbformat_minor": 0,
  "metadata": {
    "colab": {
      "provenance": []
    },
    "kernelspec": {
      "name": "python3",
      "display_name": "Python 3"
    },
    "language_info": {
      "name": "python"
    }
  },
  "cells": [
    {
      "cell_type": "markdown",
      "source": [
        "To generate random number using mid square method."
      ],
      "metadata": {
        "id": "l1lV6klglQMK"
      }
    },
    {
      "cell_type": "code",
      "source": [
        "#To generate random number using mid square method.\n",
        "def mid_square(seed, num_digits, n):\n",
        "  random_numbers = []\n",
        "\n",
        "  for _ in range(n):\n",
        "    squared =  seed ** 2\n",
        "    squared_str = str(squared).zfill (8) # Pad with zeros if needed\n",
        "    mid_start = (len(squared_str) - num_digits) // 2\n",
        "    mid_digits = squared_str[mid_start:mid_start + num_digits]\n",
        "    seed = int(mid_digits)\n",
        "    random_numbers.append(seed)\n",
        "  return random_numbers\n",
        "seed = 1234\n",
        "num_digits = 4\n",
        "n = 10\n",
        "random_numbers = mid_square(seed, num_digits, n)\n",
        "print(random_numbers)"
      ],
      "metadata": {
        "id": "VJBy3-yYlSia",
        "outputId": "eb856942-edea-4c53-a36d-09073841fa5c",
        "colab": {
          "base_uri": "https://localhost:8080/"
        }
      },
      "execution_count": 1,
      "outputs": [
        {
          "output_type": "stream",
          "name": "stdout",
          "text": [
            "[5227, 3215, 3362, 3030, 1809, 2724, 4201, 6484, 422, 1780]\n"
          ]
        }
      ]
    }
  ]
}