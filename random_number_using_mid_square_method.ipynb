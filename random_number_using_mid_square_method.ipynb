{
 "cells": [
  {
   "cell_type": "markdown",
   "metadata": {
    "id": "l1lV6klglQMK"
   },
   "source": [
    "To generate random number using mid square method."
   ]
  },
  {
   "cell_type": "code",
   "execution_count": null,
   "metadata": {
    "colab": {
     "base_uri": "https://localhost:8080/"
    },
    "id": "VJBy3-yYlSia",
    "outputId": "eb856942-edea-4c53-a36d-09073841fa5c"
   },
   "outputs": [
    {
     "name": "stdout",
     "output_type": "stream",
     "text": [
      "[5227, 3215, 3362, 3030, 1809, 2724, 4201, 6484, 422, 1780]\n"
     ]
    }
   ],
   "source": [
    "#To generate random number using mid square method.\n",
    "def mid_square(seed, num_digits, n):\n",
    "  random_numbers = []\n",
    "   \n",
    "  for _ in range(n):\n",
    "    squared =  seed ** 2\n",
    "    squared_str = str(squared).zfill (8) # Pad with zeros if needed\n",
    "    mid_start = (len(squared_str) - num_digits) // 2\n",
    "    mid_digits = squared_str[mid_start:mid_start + num_digits]\n",
    "    seed = int(mid_digits)\n",
    "    random_numbers.append(seed)\n",
    "  return random_numbers\n",
    "seed = 1234\n",
    "num_digits = 4\n",
    "n = 10\n",
    "random_numbers = mid_square(seed, num_digits, n)\n",
    "print(random_numbers)"
   ]
  }
 ],
 "metadata": {
  "colab": {
   "provenance": []
  },
  "kernelspec": {
   "display_name": "Python 3",
   "name": "python3"
  },
  "language_info": {
   "name": "python"
  }
 },
 "nbformat": 4,
 "nbformat_minor": 0
}
