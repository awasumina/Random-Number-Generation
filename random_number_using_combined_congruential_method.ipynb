{
 "cells": [
  {
   "cell_type": "markdown",
   "metadata": {
    "id": "8-qdrJIWk9Vd"
   },
   "source": [
    "To generate improved random number using combined congruential method"
   ]
  },
  {
   "cell_type": "code",
   "execution_count": null,
   "metadata": {
    "colab": {
     "base_uri": "https://localhost:8080/"
    },
    "id": "vesfxrPRk9eZ",
    "outputId": "e1dc0b60-59b9-41b0-ccc3-30442895632f"
   },
   "outputs": [
    {
     "name": "stdout",
     "output_type": "stream",
     "text": [
      "[2704402962, 2007167484, 589777863, 1054473171, 1866320772, 3160297869, 2679300738, 2722639281, 3416738547, 2075013474]\n"
     ]
    }
   ],
   "source": [
    "#to generate improved random number using combined congruential method\n",
    "def Icg(seed,modulus,multiplier,increment):\n",
    "    return(multiplier*seed+increment)%modulus\n",
    "def combined_congruential_method(seed1,seed2,modulus1,modulus2,multiplier1,multiplier2,increment1,increment2,n):\n",
    "    random_numbers=[]\n",
    "    max_modulus=max(modulus1,modulus2) \n",
    "\n",
    "    for _ in range(n):\n",
    "        seed1=Icg(seed1,max_modulus,multiplier1,increment1)\n",
    "        seed2=Icg(seed2,max_modulus,multiplier2,increment2)\n",
    "        combined=(seed1+seed2)%max_modulus\n",
    "        random_numbers.append(combined)\n",
    "    return random_numbers\n",
    "\n",
    "seed1=12345\n",
    "modulus1=2**31-1\n",
    "multiplier1=40014\n",
    "increment1=0\n",
    "seed2=54321\n",
    "modulus2=2**32-1\n",
    "multiplier2=40692\n",
    "increment2=0\n",
    "n=10\n",
    "\n",
    "random_numbers=combined_congruential_method(seed1,seed2,modulus1,modulus2,multiplier1,multiplier2,increment1,increment2,n)\n",
    "print(random_numbers)\n"
   ]
  }
 ],
 "metadata": {
  "colab": {
   "provenance": []
  },
  "kernelspec": {
   "display_name": "Python 3",
   "name": "python3"
  },
  "language_info": {
   "name": "python"
  }
 },
 "nbformat": 4,
 "nbformat_minor": 0
}
